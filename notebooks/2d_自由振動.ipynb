{
 "cells": [
  {
   "cell_type": "markdown",
   "metadata": {},
   "source": [
    "$$\n",
    "\\begin{bmatrix}\n",
    "m_1 & 0 \\\\ 0 & m_2\n",
    "\\end{bmatrix} \n",
    "\\begin{Bmatrix}\n",
    "\\ddot{x}_1 \\\\ \\ddot{x}_2\n",
    "\\end{Bmatrix} + \n",
    "\\begin{bmatrix}\n",
    "k_1 + k_2 & -k_2 \\\\ -k_2 & k_2 + k_3\n",
    "\\end{bmatrix}\n",
    "\\begin{Bmatrix}\n",
    "{x}_1 \\\\ {x}_2\n",
    "\\end{Bmatrix} =\n",
    "\\begin{Bmatrix}\n",
    "0 \\\\ 0\n",
    "\\end{Bmatrix}\n",
    "$$\n",
    "$$ \\bold{M}\\bold{\\ddot{x}} + \\bold{K}\\bold{{x}} = 0 $$\n",
    "$$ [-\\omega^2\\bold{M} + \\bold{K}]\\bold{u} = 0 $$"
   ]
  },
  {
   "cell_type": "code",
   "execution_count": 208,
   "metadata": {},
   "outputs": [],
   "source": [
    "import numpy as np\n",
    "from numpy import linalg as LA\n",
    "import matplotlib.pyplot as plt"
   ]
  },
  {
   "cell_type": "code",
   "execution_count": 209,
   "metadata": {},
   "outputs": [],
   "source": [
    "def create_stiffness_matrix(k_values):\n",
    "    '''剛性マトリックス作成'''\n",
    "\n",
    "    n = len(k_values) - 1\n",
    "    k = np.zeros((n, n))\n",
    "\n",
    "    for i in range(n):\n",
    "        k[i, i] = k_values[i] + k_values[i + 1]\n",
    "        if i < n - 1:\n",
    "            k[i, i + 1] = -k_values[i + 1]\n",
    "            k[i + 1, i] = -k_values[i + 1]\n",
    "\n",
    "    return k"
   ]
  },
  {
   "cell_type": "markdown",
   "metadata": {},
   "source": [
    "質量と剛性を入力"
   ]
  },
  {
   "cell_type": "code",
   "execution_count": 258,
   "metadata": {},
   "outputs": [],
   "source": [
    "m_values = [50000, 50000, 50000]\n",
    "k_values = [30000000, 20000000, 50000000, 20000000]\n",
    "m_values = [1, 1]\n",
    "k_values = [10, 10, 10]\n",
    "f_value = [3, 1]"
   ]
  },
  {
   "cell_type": "code",
   "execution_count": 259,
   "metadata": {},
   "outputs": [
    {
     "data": {
      "text/plain": [
       "(array([[1, 0],\n",
       "        [0, 1]]),\n",
       " array([[ 20., -10.],\n",
       "        [-10.,  20.]]),\n",
       " array([3, 1]))"
      ]
     },
     "execution_count": 259,
     "metadata": {},
     "output_type": "execute_result"
    }
   ],
   "source": [
    "mass_matrix = np.diag(m_values)\n",
    "stiffness_martix = create_stiffness_matrix(k_values)\n",
    "force_vector = np.array(f_value)\n",
    "mass_matrix, stiffness_martix, force_vector"
   ]
  },
  {
   "cell_type": "markdown",
   "metadata": {},
   "source": [
    "固有値、固有ベクトルを計算"
   ]
  },
  {
   "cell_type": "code",
   "execution_count": 260,
   "metadata": {},
   "outputs": [
    {
     "data": {
      "text/plain": [
       "(array([30., 10.]),\n",
       " array([[ 0.70710678,  0.70710678],\n",
       "        [-0.70710678,  0.70710678]]))"
      ]
     },
     "execution_count": 260,
     "metadata": {},
     "output_type": "execute_result"
    }
   ],
   "source": [
    "mass_matrix_inv = np.linalg.inv(mass_matrix)\n",
    "eigenvalues, eigenvectors = LA.eig(np.dot(mass_matrix_inv, stiffness_martix))\n",
    "eigenvalues, eigenvectors"
   ]
  },
  {
   "cell_type": "code",
   "execution_count": 261,
   "metadata": {},
   "outputs": [
    {
     "name": "stdout",
     "output_type": "stream",
     "text": [
      "[3.16227766 5.47722558]\n",
      "[[ 0.70710678  0.70710678]\n",
      " [ 0.70710678 -0.70710678]]\n"
     ]
    }
   ],
   "source": [
    "# 固有値の順番を昇順にソート\n",
    "eigenvalues_sort = np.sort(eigenvalues)\n",
    " \n",
    "# 固有値のソート時のインデックスを取得\n",
    "# ⇒固有ベクトルと対応させるため\n",
    "sort_index = np.argsort(eigenvalues)\n",
    " \n",
    "# 固有値に対応する固有ベクトルをソート\n",
    "eigenvectors_sort = []\n",
    "for i in range(len(sort_index)):\n",
    "    eigenvectors_sort.append(eigenvectors.T[sort_index[i]])\n",
    "eigenvectors_sort = np.array(eigenvectors_sort)\n",
    " \n",
    "# 結果をコンソールに表示\n",
    "print(np.sqrt(eigenvalues_sort))\n",
    "print(eigenvectors_sort)"
   ]
  },
  {
   "cell_type": "code",
   "execution_count": 262,
   "metadata": {},
   "outputs": [
    {
     "data": {
      "text/plain": [
       "array([[ 0.70710678,  0.70710678],\n",
       "       [ 0.70710678, -0.70710678]])"
      ]
     },
     "execution_count": 262,
     "metadata": {},
     "output_type": "execute_result"
    }
   ],
   "source": [
    "eigen_mode_matrix = eigenvectors_sort.T\n",
    "eigen_mode_matrix"
   ]
  },
  {
   "cell_type": "code",
   "execution_count": 263,
   "metadata": {},
   "outputs": [
    {
     "name": "stdout",
     "output_type": "stream",
     "text": [
      "2次 固有値 = 5.477 , 固有ベクトル = [ 0.70710678 -0.70710678]\n",
      "1次 固有値 = 3.162 , 固有ベクトル = [0.70710678 0.70710678]\n"
     ]
    }
   ],
   "source": [
    "for i, value in enumerate(eigenvalues):\n",
    "    print(f'{len(eigenvalues)-i}次 固有値 = {np.sqrt(eigenvalues)[i]:.03f} , 固有ベクトル = {eigenvectors[:, i]}')"
   ]
  },
  {
   "cell_type": "markdown",
   "metadata": {},
   "source": [
    "モード質量、モード剛性"
   ]
  },
  {
   "cell_type": "code",
   "execution_count": 255,
   "metadata": {},
   "outputs": [
    {
     "data": {
      "text/plain": [
       "(array([[1., 0.],\n",
       "        [0., 1.]]),\n",
       " array([[ 1.00000000e+01, -1.77635684e-15],\n",
       "        [-8.88178420e-16,  3.00000000e+01]]))"
      ]
     },
     "execution_count": 255,
     "metadata": {},
     "output_type": "execute_result"
    }
   ],
   "source": [
    "modal_mass_matrix = np.dot(eigen_mode_matrix.T, np.dot(mass_matrix, eigen_mode_matrix))\n",
    "modal_stiffness_matrix = np.dot(eigen_mode_matrix.T, np.dot(stiffness_martix, eigen_mode_matrix))\n",
    "modal_mass_matrix, modal_stiffness_matrix"
   ]
  },
  {
   "cell_type": "code",
   "execution_count": 257,
   "metadata": {},
   "outputs": [
    {
     "data": {
      "text/plain": [
       "(10.0, 30.0)"
      ]
     },
     "execution_count": 257,
     "metadata": {},
     "output_type": "execute_result"
    }
   ],
   "source": [
    "modal_mass_1, modal_mass_2 = modal_mass_matrix[0][0], modal_mass_matrix[1][1]\n",
    "modal_mass_1, modal_mass_2\n",
    "modal_stiffness_1, modal_stiffness_2 = modal_stiffness_matrix[0][0], modal_stiffness_matrix[1][1]\n",
    "modal_stiffness_1, modal_stiffness_2\n",
    "modal_force_1 = "
   ]
  },
  {
   "cell_type": "code",
   "execution_count": null,
   "metadata": {},
   "outputs": [],
   "source": []
  }
 ],
 "metadata": {
  "kernelspec": {
   "display_name": "Python 3",
   "language": "python",
   "name": "python3"
  },
  "language_info": {
   "codemirror_mode": {
    "name": "ipython",
    "version": 3
   },
   "file_extension": ".py",
   "mimetype": "text/x-python",
   "name": "python",
   "nbconvert_exporter": "python",
   "pygments_lexer": "ipython3",
   "version": "3.11.9"
  }
 },
 "nbformat": 4,
 "nbformat_minor": 2
}
