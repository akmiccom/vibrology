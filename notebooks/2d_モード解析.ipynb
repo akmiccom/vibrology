{
 "cells": [
  {
   "cell_type": "markdown",
   "metadata": {},
   "source": [
    "$$\n",
    "\\begin{bmatrix}\n",
    "m_1 & 0 \\\\ 0 & m_2\n",
    "\\end{bmatrix} \n",
    "\\begin{Bmatrix}\n",
    "\\ddot{x}_1 \\\\ \\ddot{x}_2\n",
    "\\end{Bmatrix} + \n",
    "\\begin{bmatrix}\n",
    "k_1 + k_2 & -k_2 \\\\ -k_2 & k_2 + k_3\n",
    "\\end{bmatrix}\n",
    "\\begin{Bmatrix}\n",
    "{x}_1 \\\\ {x}_2\n",
    "\\end{Bmatrix} =\n",
    "\\begin{Bmatrix}\n",
    "0 \\\\ 0\n",
    "\\end{Bmatrix}\n",
    "$$\n",
    "$$ \\bold{M}\\bold{\\ddot{x}} + \\bold{K}\\bold{{x}} = 0 $$\n",
    "$$ [-\\omega^2\\bold{M} + \\bold{K}]\\bold{u} = 0 $$"
   ]
  },
  {
   "cell_type": "markdown",
   "metadata": {},
   "source": [
    "$$\n",
    "q_i = \\sum_{i=i}^N\\frac{f_i^*}{-m_i^*\\omega^2+k_i^*}, \\quad\n",
    "\\{x_i\\} = \\sum_{i=i}^N\\frac{f_i^*}{-m_i^*\\omega^2+k_i^*}\\{{\\varphi_i}\\}\n",
    "$$"
   ]
  },
  {
   "cell_type": "code",
   "execution_count": 1,
   "metadata": {},
   "outputs": [],
   "source": [
    "import numpy as np\n",
    "from numpy import linalg as LA\n",
    "import matplotlib.pyplot as plt\n",
    "import japanize_matplotlib"
   ]
  },
  {
   "cell_type": "code",
   "execution_count": 2,
   "metadata": {},
   "outputs": [],
   "source": [
    "def create_stiffness_matrix(k_values):\n",
    "    '''剛性マトリックス作成'''\n",
    "\n",
    "    n = len(k_values) - 1\n",
    "    k = np.zeros((n, n))\n",
    "\n",
    "    for i in range(n):\n",
    "        k[i, i] = k_values[i] + k_values[i + 1]\n",
    "        if i < n - 1:\n",
    "            k[i, i + 1] = -k_values[i + 1]\n",
    "            k[i + 1, i] = -k_values[i + 1]\n",
    "\n",
    "    return k"
   ]
  },
  {
   "cell_type": "markdown",
   "metadata": {},
   "source": [
    "質量、剛性、外力の設定"
   ]
  },
  {
   "cell_type": "code",
   "execution_count": 3,
   "metadata": {},
   "outputs": [],
   "source": [
    "m_values = [50000, 50000, 50000]\n",
    "k_values = [300000, 200000, 500000, 200000]\n",
    "f_value = [2, 1, 3]\n",
    "m_values = [10, 10]\n",
    "k_values = [10000, 10000, 10000]\n",
    "f_value = [2, 1]"
   ]
  },
  {
   "cell_type": "markdown",
   "metadata": {},
   "source": [
    "質量マトリックス、剛性マトリックス、外力ベクトル"
   ]
  },
  {
   "cell_type": "code",
   "execution_count": 4,
   "metadata": {},
   "outputs": [
    {
     "data": {
      "text/plain": [
       "(array([[10,  0],\n",
       "        [ 0, 10]]),\n",
       " array([[ 20000., -10000.],\n",
       "        [-10000.,  20000.]]),\n",
       " array([2, 1]))"
      ]
     },
     "execution_count": 4,
     "metadata": {},
     "output_type": "execute_result"
    }
   ],
   "source": [
    "mass_matrix = np.diag(m_values)\n",
    "stiffness_martix = create_stiffness_matrix(k_values)\n",
    "force_vector = np.array(f_value)\n",
    "mass_matrix, stiffness_martix, force_vector"
   ]
  },
  {
   "cell_type": "markdown",
   "metadata": {},
   "source": [
    "固有値、固有ベクトルより、固有角振動数、固有ベクトルマトリックスを作成"
   ]
  },
  {
   "cell_type": "code",
   "execution_count": 5,
   "metadata": {},
   "outputs": [
    {
     "data": {
      "text/plain": [
       "(array([31.6227766 , 54.77225575]),\n",
       " array([[ 0.70710678, -0.70710678],\n",
       "        [ 0.70710678,  0.70710678]]))"
      ]
     },
     "execution_count": 5,
     "metadata": {},
     "output_type": "execute_result"
    }
   ],
   "source": [
    "mass_matrix_inv = np.linalg.inv(mass_matrix)\n",
    "eigenvalues, eigenvectors = LA.eig(np.dot(mass_matrix_inv, stiffness_martix))\n",
    "omega_n = np.sort(np.sqrt(eigenvalues)) # sqrt and sort\n",
    "eigenvector_matrix = eigenvectors.T # transport\n",
    "omega_n, eigenvector_matrix"
   ]
  },
  {
   "cell_type": "markdown",
   "metadata": {},
   "source": [
    "モード質量、剛性、外力を作成"
   ]
  },
  {
   "cell_type": "code",
   "execution_count": 6,
   "metadata": {},
   "outputs": [
    {
     "data": {
      "text/plain": [
       "(array([[10.,  0.],\n",
       "        [ 0., 10.]]),\n",
       " array([[10000.,     0.],\n",
       "        [    0., 30000.]]),\n",
       " array([ 2.12132034, -0.70710678]))"
      ]
     },
     "execution_count": 6,
     "metadata": {},
     "output_type": "execute_result"
    }
   ],
   "source": [
    "m_modal = np.dot(eigenvector_matrix.T, np.dot(mass_matrix, eigenvector_matrix))\n",
    "k_modal = np.dot(eigenvector_matrix.T, np.dot(stiffness_martix, eigenvector_matrix))\n",
    "f_modal = np.dot(eigenvector_matrix.T, f_value)\n",
    "m_modal, k_modal, f_modal"
   ]
  },
  {
   "cell_type": "markdown",
   "metadata": {},
   "source": [
    "モード変位から物理座標の変位を求める"
   ]
  },
  {
   "cell_type": "code",
   "execution_count": 7,
   "metadata": {},
   "outputs": [],
   "source": [
    "def mode_disp(f, m, k, omega):\n",
    "    q = f / (-m_modal[i][i]*omega**2 + k_modal[i][i])\n",
    "    return q\n",
    "\n",
    "omega_max = round(omega_n[-1], 0)+10\n",
    "X = []\n",
    "for omega in np.arange(1, omega_max, 0.1):\n",
    "    q_vector = []\n",
    "    for i, (f, m, k) in enumerate(zip(f_modal, m_modal, k_modal)):\n",
    "        q_vector.append(mode_disp(f, m, k, omega))\n",
    "    x_vector = np.abs(np.dot(eigenvector_matrix, q_vector))\n",
    "    X.append(x_vector)"
   ]
  },
  {
   "cell_type": "markdown",
   "metadata": {},
   "source": [
    "グラフ表示"
   ]
  },
  {
   "cell_type": "code",
   "execution_count": 12,
   "metadata": {},
   "outputs": [
    {
     "data": {
      "image/png": "[encoded data removed]",
      "text/plain": [
       "<Figure size 640x480 with 1 Axes>"
      ]
     },
     "metadata": {},
     "output_type": "display_data"
    }
   ],
   "source": [
    "f_range = np.arange(1, omega_max, 0.1) / np.pi/2\n",
    "plt.plot(f_range, [x[0] for i, x in enumerate(X)], label='m1')\n",
    "plt.scatter(f_range, [x[1] for i, x in enumerate(X)], color='r', label='m2')\n",
    "# plt.scatter(f_range, [x[2] for i, x in enumerate(X)], color='k', label='m3')\n",
    "plt.title('周波数応答')\n",
    "plt.xlabel('周波数(Hz)')\n",
    "plt.ylabel('変位x')\n",
    "plt.legend()\n",
    "plt.show()"
   ]
  },
  {
   "cell_type": "code",
   "execution_count": null,
   "metadata": {},
   "outputs": [],
   "source": []
  }
 ],
 "metadata": {
  "kernelspec": {
   "display_name": "Python 3",
   "language": "python",
   "name": "python3"
  },
  "language_info": {
   "codemirror_mode": {
    "name": "ipython",
    "version": 3
   },
   "file_extension": ".py",
   "mimetype": "text/x-python",
   "name": "python",
   "nbconvert_exporter": "python",
   "pygments_lexer": "ipython3",
   "version": "3.11.9"
  }
 },
 "nbformat": 4,
 "nbformat_minor": 2
}
