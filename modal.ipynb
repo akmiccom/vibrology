{
 "cells": [
  {
   "cell_type": "code",
   "execution_count": 1,
   "metadata": {},
   "outputs": [],
   "source": [
    "import numpy as np\n",
    "from numpy import linalg as LA\n",
    "import matplotlib.pyplot as plt"
   ]
  },
  {
   "cell_type": "code",
   "execution_count": 2,
   "metadata": {},
   "outputs": [],
   "source": [
    "def create_stiffness_matrix(k_values):\n",
    "    '''剛性マトリックス作成'''\n",
    "\n",
    "    n = len(k_values) - 1\n",
    "    k = np.zeros((n, n))\n",
    "\n",
    "    for i in range(n):\n",
    "        k[i, i] = k_values[i] + k_values[i + 1]\n",
    "        if i < n - 1:\n",
    "            k[i, i + 1] = -k_values[i + 1]\n",
    "            k[i + 1, i] = -k_values[i + 1]\n",
    "\n",
    "    return k"
   ]
  },
  {
   "cell_type": "code",
   "execution_count": 27,
   "metadata": {},
   "outputs": [],
   "source": [
    "m_values = [1, 2]\n",
    "k_values = [10000, 10000, 10000]\n",
    "f_value = [3, 1]"
   ]
  },
  {
   "cell_type": "code",
   "execution_count": 28,
   "metadata": {},
   "outputs": [
    {
     "data": {
      "text/plain": [
       "(array([[1, 0],\n",
       "        [0, 2]]),\n",
       " array([[ 20000., -10000.],\n",
       "        [-10000.,  20000.]]),\n",
       " array([3, 1]))"
      ]
     },
     "execution_count": 28,
     "metadata": {},
     "output_type": "execute_result"
    }
   ],
   "source": [
    "mass_matrix = np.diag(m_values)\n",
    "stiffness_martix = create_stiffness_matrix(k_values)\n",
    "force_vector = np.array(f_value)\n",
    "mass_matrix, stiffness_martix, force_vector"
   ]
  },
  {
   "cell_type": "code",
   "execution_count": 29,
   "metadata": {},
   "outputs": [
    {
     "data": {
      "text/plain": [
       "(array([23660.25403784,  6339.74596216]),\n",
       " array([[ 0.9390708 ,  0.59069049],\n",
       "        [-0.34372377,  0.80689822]]))"
      ]
     },
     "execution_count": 29,
     "metadata": {},
     "output_type": "execute_result"
    }
   ],
   "source": [
    "mass_matrix_inv = np.linalg.inv(mass_matrix)\n",
    "eigenvalues, eigenvectors = LA.eig(np.dot(mass_matrix_inv, stiffness_martix))\n",
    "eigenvalues, eigenvectors"
   ]
  },
  {
   "cell_type": "code",
   "execution_count": 30,
   "metadata": {},
   "outputs": [
    {
     "name": "stdout",
     "output_type": "stream",
     "text": [
      "[ 79.6225217  153.81890013]\n",
      "[[ 0.59069049  0.80689822]\n",
      " [ 0.9390708  -0.34372377]]\n"
     ]
    }
   ],
   "source": [
    "# 固有値の順番を昇順にソート\n",
    "eigenvalues_sort = np.sort(eigenvalues)\n",
    " \n",
    "# 固有値のソート時のインデックスを取得\n",
    "# ⇒固有ベクトルと対応させるため\n",
    "sort_index = np.argsort(eigenvalues)\n",
    " \n",
    "# 固有値に対応する固有ベクトルをソート\n",
    "eigenvectors_sort = []\n",
    "for i in range(len(sort_index)):\n",
    "    eigenvectors_sort.append(eigenvectors.T[sort_index[i]])\n",
    "eigenvectors_sort = np.array(eigenvectors_sort)\n",
    " \n",
    "# 結果をコンソールに表示\n",
    "print(np.sqrt(eigenvalues_sort))\n",
    "print(eigenvectors_sort)"
   ]
  },
  {
   "cell_type": "code",
   "execution_count": 22,
   "metadata": {},
   "outputs": [
    {
     "data": {
      "text/plain": [
       "array([[ 0.70710678,  0.70710678],\n",
       "       [ 0.70710678, -0.70710678]])"
      ]
     },
     "execution_count": 22,
     "metadata": {},
     "output_type": "execute_result"
    }
   ],
   "source": [
    "eigen_mode_matrix = eigenvectors_sort.T\n",
    "eigen_mode_matrix"
   ]
  },
  {
   "cell_type": "code",
   "execution_count": 9,
   "metadata": {},
   "outputs": [
    {
     "data": {
      "text/plain": [
       "(array([[1., 0.],\n",
       "        [0., 1.]]),\n",
       " array([[ 1.00000000e+01, -1.77635684e-15],\n",
       "        [-8.88178420e-16,  3.00000000e+01]]),\n",
       " array([2.82842712, 1.41421356]))"
      ]
     },
     "execution_count": 9,
     "metadata": {},
     "output_type": "execute_result"
    }
   ],
   "source": [
    "modal_mass_matrix = np.dot(eigen_mode_matrix.T, np.dot(mass_matrix, eigen_mode_matrix))\n",
    "modal_stiffness_matrix = np.dot(eigen_mode_matrix.T, np.dot(stiffness_martix, eigen_mode_matrix))\n",
    "modal_force_vector = np.dot(eigen_mode_matrix.T, force_vector)\n",
    "modal_mass_matrix, modal_stiffness_matrix, modal_force_vector"
   ]
  },
  {
   "cell_type": "code",
   "execution_count": 11,
   "metadata": {},
   "outputs": [
    {
     "data": {
      "text/plain": [
       "(1.0, 1.0, 10.0, 30.0, 2.82842712474619, 1.4142135623730954)"
      ]
     },
     "execution_count": 11,
     "metadata": {},
     "output_type": "execute_result"
    }
   ],
   "source": [
    "modal_mass_1, modal_mass_2 = modal_mass_matrix[0][0], modal_mass_matrix[1][1]\n",
    "modal_stiffness_1, modal_stiffness_2 = modal_stiffness_matrix[0][0], modal_stiffness_matrix[1][1]\n",
    "modal_force_1, modal_force_2 = modal_force_vector\n",
    "modal_mass_1, modal_mass_2, modal_stiffness_1, modal_stiffness_2, modal_force_1, modal_force_2"
   ]
  },
  {
   "cell_type": "code",
   "execution_count": 32,
   "metadata": {},
   "outputs": [
    {
     "data": {
      "text/plain": [
       "1e-09"
      ]
     },
     "execution_count": 32,
     "metadata": {},
     "output_type": "execute_result"
    }
   ],
   "source": [
    "1E-09"
   ]
  },
  {
   "cell_type": "code",
   "execution_count": null,
   "metadata": {},
   "outputs": [],
   "source": []
  }
 ],
 "metadata": {
  "kernelspec": {
   "display_name": "Python 3",
   "language": "python",
   "name": "python3"
  },
  "language_info": {
   "codemirror_mode": {
    "name": "ipython",
    "version": 3
   },
   "file_extension": ".py",
   "mimetype": "text/x-python",
   "name": "python",
   "nbconvert_exporter": "python",
   "pygments_lexer": "ipython3",
   "version": "3.11.9"
  }
 },
 "nbformat": 4,
 "nbformat_minor": 2
}
